{
 "cells": [
  {
   "cell_type": "code",
   "execution_count": 1,
   "metadata": {},
   "outputs": [],
   "source": [
    "from Indian_Education_2016 import *"
   ]
  },
  {
   "cell_type": "code",
   "execution_count": 3,
   "metadata": {},
   "outputs": [],
   "source": [
    "state = \"Bihar\""
   ]
  },
  {
   "cell_type": "code",
   "execution_count": 5,
   "metadata": {},
   "outputs": [
    {
     "data": {
      "text/plain": [
       "37"
      ]
     },
     "execution_count": 5,
     "metadata": {},
     "output_type": "execute_result"
    }
   ],
   "source": [
    "state_dist = [\n",
    "        dist[\"properties\"][\"NAME_2\"] for dist in district_wise_india[state][\"features\"]\n",
    "    ]\n",
    "len(state_dist)"
   ]
  },
  {
   "cell_type": "code",
   "execution_count": 7,
   "metadata": {},
   "outputs": [],
   "source": [
    "xx = g_dist_df.get_group(state)"
   ]
  },
  {
   "cell_type": "code",
   "execution_count": 8,
   "metadata": {},
   "outputs": [
    {
     "name": "stdout",
     "output_type": "stream",
     "text": [
      "PASHCHIM CHAMPARAN\n",
      "PURBA CHAMPARAN\n",
      "SHEOHAR\n",
      "SITAMARHI\n",
      "MADHUBANI\n",
      "SUPAUL\n",
      "ARARIA\n",
      "KISHANGANJ\n",
      "PURNIA\n",
      "KATIHAR\n",
      "MADHEPURA\n",
      "SAHARSA\n",
      "DARBHANGA\n",
      "MUZAFFARPUR\n",
      "GOPALGANJ\n",
      "SIWAN\n",
      "SARAN\n",
      "VAISHALI\n",
      "SAMASTIPUR\n",
      "BEGUSARAI\n",
      "KHAGARIA\n",
      "BHAGALPUR\n",
      "BANKA\n",
      "MUNGER\n",
      "LAKHISARAI\n",
      "SHEIKHPURA\n",
      "NALANDA\n",
      "PATNA\n",
      "BHOJPUR\n",
      "BUXAR\n",
      "KAIMUR (BHABUA)\n",
      "ROHTAS\n",
      "JEHANABAD\n",
      "AURANGABAD (BIHAR)\n",
      "GAYA\n",
      "NAWADA\n",
      "JAMUI\n",
      "ARWAL\n"
     ]
    }
   ],
   "source": [
    "for s in xx['DISTNAME'].to_list():\n",
    "\tif s not in state_dist:\n",
    "\t\tprint(s)"
   ]
  }
 ],
 "metadata": {
  "kernelspec": {
   "display_name": "Python 3.9.7 ('base')",
   "language": "python",
   "name": "python3"
  },
  "language_info": {
   "codemirror_mode": {
    "name": "ipython",
    "version": 3
   },
   "file_extension": ".py",
   "mimetype": "text/x-python",
   "name": "python",
   "nbconvert_exporter": "python",
   "pygments_lexer": "ipython3",
   "version": "3.9.7"
  },
  "orig_nbformat": 4,
  "vscode": {
   "interpreter": {
    "hash": "2da85442f610eb6be705ea2fcde90113d2979f686409d64cfea701da7585f7ac"
   }
  }
 },
 "nbformat": 4,
 "nbformat_minor": 2
}
