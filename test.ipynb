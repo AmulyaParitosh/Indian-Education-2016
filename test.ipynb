{
 "cells": [
  {
   "cell_type": "code",
   "execution_count": 6,
   "metadata": {},
   "outputs": [],
   "source": [
    "from Indian_Education_2016 import *"
   ]
  },
  {
   "cell_type": "code",
   "execution_count": 7,
   "metadata": {},
   "outputs": [
    {
     "ename": "ValueError",
     "evalue": "Value of 'hover_name' is not the name of a column in 'data_frame'. Expected one of ['STATNAME', 'DISTNAME', 'DISTRICTS', 'BLOCKS', 'VILLAGES', 'CLUSTERS', 'TOTPOPULAT', 'P_URB_POP', 'POPULATION_0_6', 'GROWTHRATE', 'SEXRATIO', 'P_SC_POP', 'P_ST_POP', 'OVERALL_LI', 'FEMALE_LIT', 'MALE_LIT', 'AREA_SQKM', 'TOT_6_10_15', 'TOT_11_13_15', 'SCH1', 'SCH2', 'SCH3', 'SCH4', 'SCH5', 'SCH6', 'SCH7', 'SCH9', 'SCHTOT', 'SCH1G', 'SCH2G', 'SCH3G', 'SCH4G', 'SCH5G', 'SCH6G', 'SCH7G', 'SCH9G', 'SCHTOTG', 'SCH1P', 'SCH2P', 'SCH3P', 'SCH4P', 'SCH5P', 'SCH6P', 'SCH7P', 'SCH9P', 'SCHTOTP', 'SCH1M', 'SCH2M', 'SCH3M', 'SCH4M', 'SCH5M', 'SCH6M', 'SCH7M', 'SCH9M', 'SCHTOTM', 'SCH1GR', 'SCH2GR', 'SCH3GR', 'SCH4GR', 'SCH5GR', 'SCH6GR', 'SCH7GR', 'SCH9GR', 'SCHTOTGR', 'SCH1GA', 'SCH2GA', 'SCH3GA', 'SCH4GA', 'SCH5GA', 'SCH6GA', 'SCH7GA', 'SCH9GA', 'SCHTOTGA', 'SCH1PR', 'SCH2PR', 'SCH3PR', 'SCH4PR', 'SCH5PR', 'SCH6PR', 'SCH7PR', 'SCH9PR', 'SCHTOTPR', 'SCHBOY1', 'SCHBOY2', 'SCHBOY3', 'SCHBOY4', 'SCHBOY5', 'SCHBOY6', 'SCHBOY7', 'SCHBOY9', 'SCHBOYTOT', 'SCHGIR1', 'SCHGIR2', 'SCHGIR3', 'SCHGIR4', 'SCHGIR5', 'SCHGIR6', 'SCHGIR7', 'SCHGIR9', 'SCHGIRTOT', 'ENR1', 'ENR2', 'ENR3', 'ENR4', 'ENR5', 'ENR6', 'ENR7', 'ENR9', 'ENRTOT', 'ENR1G', 'ENR2G', 'ENR3G', 'ENR4G', 'ENR5G', 'ENR6G', 'ENR7G', 'ENR9G', 'ENRTOTG', 'ENR1P', 'ENR2P', 'ENR3P', 'ENR4P', 'ENR5P', 'ENR6P', 'ENR7P', 'ENR9P', 'ENRTOTP', 'ENR1M', 'ENR2M', 'ENR3M', 'ENR4M', 'ENR5M', 'ENR6M', 'ENR7M', 'ENR9M', 'ENRTOTM', 'ENR1GR', 'ENR2GR', 'ENR3GR', 'ENR4GR', 'ENR5GR', 'ENR6GR', 'ENR7GR', 'ENR9GR', 'ENRTOTGR', 'ENR1PR', 'ENR2PR', 'ENR3PR', 'ENR4PR', 'ENR5PR', 'ENR6PR', 'ENR7PR', 'ENR9PR', 'ENRTOTPR', 'TCH1G', 'TCH2G', 'TCH3G', 'TCH4G', 'TCH5G', 'TCH6G', 'TCH7G', 'TCH9G', 'TCHTOTG', 'TCH1P', 'TCH2P', 'TCH3P', 'TCH4P', 'TCH5P', 'TCH6P', 'TCH7P', 'TCH9P', 'TCHTOTP', 'TCH1M', 'TCH2M', 'TCH3M', 'TCH4M', 'TCH5M', 'TCH6M', 'TCH7M', 'TCH9M', 'TCHTOTM', 'SCLS1', 'SCLS2', 'SCLS3', 'SCLS4', 'SCLS5', 'SCLS6', 'SCLS7', 'SCLSTOT', 'STCH1', 'STCH2', 'STCH3', 'STCH4', 'STCH5', 'STCH6', 'STCH7', 'STCHTOT', 'ROAD1', 'ROAD2', 'ROAD3', 'ROAD4', 'ROAD5', 'ROAD6', 'ROAD7', 'ROADTOT', 'SPLAY1', 'SPLAY2', 'SPLAY3', 'SPLAY4', 'SPLAY5', 'SPLAY6', 'SPLAY7', 'SPLAYTOT', 'SBNDR1', 'SBNDR2', 'SBNDR3', 'SBNDR4', 'SBNDR5', 'SBNDR6', 'SBNDR7', 'SBNDRTOT', 'SGTOIL1', 'SGTOIL2', 'SGTOIL3', 'SGTOIL4', 'SGTOIL5', 'SGTOIL6', 'SGTOIL7', 'SGTOILTOT', 'SBTOIL1', 'SBTOIL2', 'SBTOIL3', 'SBTOIL4', 'SBTOIL5', 'SBTOIL6', 'SBTOIL7', 'SBTOILTOT', 'SWAT1', 'SWAT2', 'SWAT3', 'SWAT4', 'SWAT5', 'SWAT6', 'SWAT7', 'SWATTOT', 'SELE1', 'SELE2', 'SELE3', 'SELE4', 'SELE5', 'SELE6', 'SELE7', 'SELETOT', 'SCOMP1', 'SCOMP2', 'SCOMP3', 'SCOMP4', 'SCOMP5', 'SCOMP6', 'SCOMP7', 'SCOMPTOT', 'SRAM1', 'SRAM2', 'SRAM3', 'SRAM4', 'SRAM5', 'SRAM6', 'SRAM7', 'SRAMTOT', 'SRAMN1', 'SRAMN2', 'SRAMN3', 'SRAMN4', 'SRAMN5', 'SRAMN6', 'SRAMN7', 'SRAMNTOT', 'ESTD1', 'ESTD2', 'ESTD3', 'ESTD4', 'ESTD5', 'ESTD6', 'ESTD7', 'ESTDTOT', 'MDM1', 'MDM2', 'MDM3', 'MDM4', 'MDM5', 'MDM6', 'MDM7', 'MDMTOT', 'KIT1', 'KIT2', 'KIT3', 'KIT4', 'KIT5', 'KIT6', 'KIT7', 'KITTOT', 'KITS1', 'KITS2', 'KITS3', 'KITS4', 'KITS5', 'KITS6', 'KITS7', 'KITSTOT', 'ENR501', 'ENR502', 'ENR503', 'ENR504', 'ENR505', 'ENR506', 'ENR507', 'ENR509', 'ENR50TOT', 'SMC1', 'SMC2', 'SMC3', 'SMC4', 'SMC5', 'SMC6', 'SMC7', 'SMCTOT', 'CLS1', 'CLS2', 'CLS3', 'CLS4', 'CLS5', 'CLS6', 'CLS7', 'CLSTOT', 'TCH1', 'TCH2', 'TCH3', 'TCH4', 'TCH5', 'TCH6', 'TCH7', 'TCHTOT', 'TCHF1', 'TCHF2', 'TCHF3', 'TCHF4', 'TCHF5', 'TCHF6', 'TCHF7', 'TCHFTOT', 'TCHM1', 'TCHM2', 'TCHM3', 'TCHM4', 'TCHM5', 'TCHM6', 'TCHM7', 'TCHM9', 'ENRG1', 'ENRG2', 'ENRG3', 'ENRG4', 'ENRG5', 'ENRG6', 'ENRG7', 'ENRGTOT', 'PREP', 'PRESTD', 'PPFTCH', 'PPMTCH', 'PMTCH', 'PFTCH', 'TCHSCM1', 'TCHSCM2', 'TCHSCM3', 'TCHSCM4', 'TCHSCM5', 'TCHSCM6', 'TCHSCM7', 'TCHSCF1', 'TCHSCF2', 'TCHSCF3', 'TCHSCF4', 'TCHSCF5', 'TCHSCF6', 'TCHSCF7', 'TCHSTM1', 'TCHSTM2', 'TCHSTM3', 'TCHSTM4', 'TCHSTM5', 'TCHSTM6', 'TCHSTM7', 'TCHSTF1', 'TCHSTF2', 'TCHSTF3', 'TCHSTF4', 'TCHSTF5', 'TCHSTF6', 'TCHSTF7', 'TCHOBCM1', 'TCHOBCM2', 'TCHOBCM3', 'TCHOBCM4', 'TCHOBCM5', 'TCHOBCM6', 'TCHOBCM7', 'TCHOBCF1', 'TCHOBCF2', 'TCHOBCF3', 'TCHOBCF4', 'TCHOBCF5', 'TCHOBCF6', 'TCHOBCF7', 'TCH_TRNRM1', 'TCH_TRNRM2', 'TCH_TRNRM3', 'TCH_TRNRM4', 'TCH_TRNRM5', 'TCH_TRNRM6', 'TCH_TRNRM7', 'TCH_TRNRF1', 'TCH_TRNRF2', 'TCH_TRNRF3', 'TCH_TRNRF4', 'TCH_TRNRF5', 'TCH_TRNRF6', 'TCH_TRNRF7', 'PGRMTCH', 'PGRFTCH', 'GRMTCH', 'GRFTCH', 'PGCMTCH', 'PGCFTCH', 'PCMTCH', 'PCFTCH', 'C1_B', 'C2_B', 'C3_B', 'C4_B', 'C5_B', 'C6_B', 'C7_B', 'C8_B', 'C9_B', 'C1_G', 'C2_G', 'C3_G', 'C4_G', 'C5_G', 'C6_G', 'C7_G', 'C8_G', 'C9_G', 'C15A', 'C68A', 'C1_BD', 'C2_BD', 'C3_BD', 'C4_BD', 'C5_BD', 'C6_BD', 'C7_BD', 'C8_BD', 'C1_GD', 'C2_GD', 'C3_GD', 'C4_GD', 'C5_GD', 'C6_GD', 'C7_GD', 'C8_GD', 'C1_BR', 'C2_BR', 'C3_BR', 'C4_BR', 'C5_BR', 'C6_BR', 'C7_BR', 'C8_BR', 'C9_BR', 'C1_GR', 'C2_GR', 'C3_GR', 'C4_GR', 'C5_GR', 'C6_GR', 'C7_GR', 'C8_GR', 'C9_GR', 'SCPTOT', 'SCPTOT_G', 'SCUTOT', 'SCUTOT_G', 'STPTOT', 'STPTOT_G', 'STUTOT', 'STUTOT_G', 'OBPTOT', 'OBUTOT', 'OBPTOT_G', 'OBUTOT_G', 'MUPTOT', 'MUUTOT', 'MUPTOT_G', 'MUUTOT_G', 'BLC1', 'LVC1', 'HEC1', 'SPC1', 'LOC1', 'MEC1', 'LEC1', 'CPC1', 'AUC1', 'MUC1', 'BLC2', 'LVC2', 'HEC2', 'SPC2', 'LOC2', 'MEC2', 'LEC2', 'CPC2', 'AUC2', 'MUC2', 'BLC3', 'LVC3', 'HEC3', 'SPC3', 'LOC3', 'MEC3', 'LEC3', 'CPC3', 'AUC3', 'MUC3', 'BLC4', 'LVC4', 'HEC4', 'SPC4', 'LOC4', 'MEC4', 'LEC4', 'CPC4', 'AUC4', 'MUC4', 'BLC5', 'LVC5', 'HEC5', 'SPC5', 'LOC5', 'MEC5', 'LEC5', 'CPC5', 'AUC5', 'MUC5', 'BLC6', 'LVC6', 'HEC6', 'SPC6', 'LOC6', 'MEC6', 'LEC6', 'CPC6', 'AUC6', 'MUC6', 'BLC7', 'LVC7', 'HEC7', 'SPC7', 'LOC7', 'MEC7', 'LEC7', 'CPC7', 'AUC7', 'MUC7', 'BLC8', 'LVC8', 'HEC8', 'SPC8', 'LOC8', 'MEC8', 'LEC8', 'CPC8', 'AUC8', 'MUC8', 'TOTCLGD1G', 'TOTCLGD2G', 'TOTCLGD3G', 'TOTCLGD4G', 'TOTCLGD5G', 'TOTCLGD6G', 'TOTCLGD7G', 'TOTCLMI1G', 'TOTCLMI2G', 'TOTCLMI3G', 'TOTCLMI4G', 'TOTCLMI5G', 'TOTCLMI6G', 'TOTCLMI7G', 'TOTCLMJ1G', 'TOTCLMJ2G', 'TOTCLMJ3G', 'TOTCLMJ4G', 'TOTCLMJ5G', 'TOTCLMJ6G', 'TOTCLMJ7G', 'TOTCLOT1G', 'TOTCLOT2G', 'TOTCLOT3G', 'TOTCLOT4G', 'TOTCLOT5G', 'TOTCLOT6G', 'TOTCLOT7G', 'TCHBS1', 'TCHBS2', 'TCHBS3', 'TCHBS4', 'TCHBS5', 'TCHBS6', 'TCHBS7', 'TCHSEC1', 'TCHSEC2', 'TCHSEC3', 'TCHSEC4', 'TCHSEC5', 'TCHSEC6', 'TCHSEC7', 'TCHHS1', 'TCHHS2', 'TCHHS3', 'TCHHS4', 'TCHHS5', 'TCHHS6', 'TCHHS7', 'TCHGD1', 'TCHGD2', 'TCHGD3', 'TCHGD4', 'TCHGD5', 'TCHGD6', 'TCHGD7', 'TCHPG1', 'TCHPG2', 'TCHPG3', 'TCHPG4', 'TCHPG5', 'TCHPG6', 'TCHPG7', 'TCHMD1', 'TCHMD2', 'TCHMD3', 'TCHMD4', 'TCHMD5', 'TCHMD6', 'TCHMD7', 'TCHPD1', 'TCHPD2', 'TCHPD3', 'TCHPD4', 'TCHPD5', 'TCHPD6', 'TCHPD7', 'TCHNR1', 'TCHNR2', 'TCHNR3', 'TCHNR4', 'TCHNR5', 'TCHNR6', 'TCHNR7', 'TCHCON1', 'TCHCON2', 'TCHCON3', 'TCHCON4', 'TCHCON5', 'TCHCON67', 'TCHCON8', 'TCHCON9', 'TCHRM1', 'TCHRM2', 'TCHRM3', 'TCHRM4', 'TCHRM5', 'TCHRM6', 'TCHRM7', 'TCHRF1', 'TCHRF2', 'TCHRF3', 'TCHRF4', 'TCHRF5', 'TCHRF6', 'TCHRF7', 'TCHRN1', 'TCHRN2', 'TCHRN3', 'TCHRN4', 'TCHRN5', 'TCHRN6', 'TCHRN7', 'TCHCM1', 'TCHCM2', 'TCHCM3', 'TCHCM4', 'TCHCM5', 'TCHCM6', 'TCHCM7', 'TCHCF1', 'TCHCF2', 'TCHCF3', 'TCHCF4', 'TCHCF5', 'TCHCF6', 'TCHCF7', 'TCHCN1', 'TCHCN2', 'TCHCN3', 'TCHCN4', 'TCHCN5', 'TCHCN6', 'TCHCN7', 'TLM_R1', 'TLM_R2', 'TLM_R3', 'TLM_R4', 'TLM_R5', 'TLM_R6', 'TLM_R7', 'TLME', 'TLMR', 'CONTIE', 'CONTIR', 'CONTI_R1', 'CONTI_R2', 'CONTI_R3', 'CONTI_R4', 'CONTI_R5', 'CONTI_R6', 'CONTI_R7', 'PIDAY30', 'PIDAYSCH', 'UIDAY35', 'UIDAYSCH', 'M1', 'M2', 'M3', 'M4', 'M5', 'ENRE11', 'ENRE12', 'ENRE13', 'ENRE14', 'ENRE15', 'ENRE16', 'ENRE17', 'ENRE21', 'ENRE22', 'ENRE23', 'ENRE24', 'ENRE25', 'ENRE26', 'ENRE27', 'ENRE31', 'ENRE32', 'ENRE33', 'ENRE34', 'ENRE35', 'ENRE36', 'ENRE37', 'ENRE41', 'ENRE42', 'ENRE43', 'ENRE44', 'ENRE45', 'ENRE46', 'ENRE47', 'ENRE51', 'ENRE52', 'ENRE53', 'ENRE54', 'ENRE55', 'ENRE56', 'ENRE57', 'TCH_5556M', 'TCH_5556F', 'TCH_5556T', 'TCH_5758M', 'TCH_5758F', 'TCH_5758T', 'TCH_5960M', 'TCH_5960F', 'TCH_5960T', 'PPTR30', 'UPTR35', 'PSCR30', 'USCR35', 'NOTCH_ASS', 'TCHINV', 'PTXT_ALL', 'PTXT_SC', 'PTXT_ST', 'PUNI_ALL', 'PUNI_SC', 'PUNI_ST', 'UTXT_ALL', 'UTXT_SC', 'UTXT_ST', 'UUNI_ALL', 'UUNI_SC', 'UUNI_ST', 'TOTCLS1G', 'TOTCLS2G', 'TOTCLS3G', 'TOTCLS4G', 'TOTCLS5G', 'TOTCLS6G', 'TOTCLS7G', 'geo_distname', 'literacy_rate_ratio'] but received: statname",
     "output_type": "error",
     "traceback": [
      "\u001b[0;31m---------------------------------------------------------------------------\u001b[0m",
      "\u001b[0;31mValueError\u001b[0m                                Traceback (most recent call last)",
      "\u001b[0;32m/tmp/ipykernel_29109/3512644663.py\u001b[0m in \u001b[0;36m<module>\u001b[0;34m\u001b[0m\n\u001b[0;32m----> 1\u001b[0;31m \u001b[0mx\u001b[0m \u001b[0;34m=\u001b[0m \u001b[0mlit_fig_callback\u001b[0m\u001b[0;34m(\u001b[0m\u001b[0;34m\"Bihar\"\u001b[0m\u001b[0;34m,\u001b[0m\u001b[0;34m\"BLOCKS\"\u001b[0m\u001b[0;34m,\u001b[0m\u001b[0;34m\"VILLAGES\"\u001b[0m\u001b[0;34m,\u001b[0m\u001b[0;34m\"CLUSTERS\"\u001b[0m\u001b[0;34m,\u001b[0m\u001b[0;34m\"TOTPOPULAT\"\u001b[0m\u001b[0;34m)\u001b[0m\u001b[0;34m\u001b[0m\u001b[0;34m\u001b[0m\u001b[0m\n\u001b[0m\u001b[1;32m      2\u001b[0m \u001b[0mx\u001b[0m\u001b[0;34m.\u001b[0m\u001b[0mshow\u001b[0m\u001b[0;34m(\u001b[0m\u001b[0;34m)\u001b[0m\u001b[0;34m\u001b[0m\u001b[0;34m\u001b[0m\u001b[0m\n",
      "\u001b[0;32m~/tesla/projects/Indian-Education-2016/Indian_Education_2016/get_map.py\u001b[0m in \u001b[0;36mlit_fig_callback\u001b[0;34m(state, var1, var2, var3, var4)\u001b[0m\n\u001b[1;32m     72\u001b[0m     \u001b[0mdata\u001b[0m \u001b[0;34m=\u001b[0m \u001b[0mg_dist_df\u001b[0m\u001b[0;34m.\u001b[0m\u001b[0mget_group\u001b[0m\u001b[0;34m(\u001b[0m\u001b[0mstate\u001b[0m\u001b[0;34m)\u001b[0m\u001b[0;34m\u001b[0m\u001b[0;34m\u001b[0m\u001b[0m\n\u001b[1;32m     73\u001b[0m \u001b[0;34m\u001b[0m\u001b[0m\n\u001b[0;32m---> 74\u001b[0;31m     fig = px.scatter(\n\u001b[0m\u001b[1;32m     75\u001b[0m         \u001b[0mdata\u001b[0m\u001b[0;34m,\u001b[0m\u001b[0;34m\u001b[0m\u001b[0;34m\u001b[0m\u001b[0m\n\u001b[1;32m     76\u001b[0m         \u001b[0mx\u001b[0m\u001b[0;34m=\u001b[0m\u001b[0mstr\u001b[0m\u001b[0;34m(\u001b[0m\u001b[0mvar1\u001b[0m\u001b[0;34m)\u001b[0m\u001b[0;34m,\u001b[0m\u001b[0;34m\u001b[0m\u001b[0;34m\u001b[0m\u001b[0m\n",
      "\u001b[0;32m~/programfiles/anaconda3/lib/python3.9/site-packages/plotly/express/_chart_types.py\u001b[0m in \u001b[0;36mscatter\u001b[0;34m(data_frame, x, y, color, symbol, size, hover_name, hover_data, custom_data, text, facet_row, facet_col, facet_col_wrap, facet_row_spacing, facet_col_spacing, error_x, error_x_minus, error_y, error_y_minus, animation_frame, animation_group, category_orders, labels, orientation, color_discrete_sequence, color_discrete_map, color_continuous_scale, range_color, color_continuous_midpoint, symbol_sequence, symbol_map, opacity, size_max, marginal_x, marginal_y, trendline, trendline_options, trendline_color_override, trendline_scope, log_x, log_y, range_x, range_y, render_mode, title, template, width, height)\u001b[0m\n\u001b[1;32m     64\u001b[0m     \u001b[0mmark\u001b[0m \u001b[0;32min\u001b[0m \u001b[0;36m2\u001b[0m\u001b[0mD\u001b[0m \u001b[0mspace\u001b[0m\u001b[0;34m.\u001b[0m\u001b[0;34m\u001b[0m\u001b[0;34m\u001b[0m\u001b[0m\n\u001b[1;32m     65\u001b[0m     \"\"\"\n\u001b[0;32m---> 66\u001b[0;31m     \u001b[0;32mreturn\u001b[0m \u001b[0mmake_figure\u001b[0m\u001b[0;34m(\u001b[0m\u001b[0margs\u001b[0m\u001b[0;34m=\u001b[0m\u001b[0mlocals\u001b[0m\u001b[0;34m(\u001b[0m\u001b[0;34m)\u001b[0m\u001b[0;34m,\u001b[0m \u001b[0mconstructor\u001b[0m\u001b[0;34m=\u001b[0m\u001b[0mgo\u001b[0m\u001b[0;34m.\u001b[0m\u001b[0mScatter\u001b[0m\u001b[0;34m)\u001b[0m\u001b[0;34m\u001b[0m\u001b[0;34m\u001b[0m\u001b[0m\n\u001b[0m\u001b[1;32m     67\u001b[0m \u001b[0;34m\u001b[0m\u001b[0m\n\u001b[1;32m     68\u001b[0m \u001b[0;34m\u001b[0m\u001b[0m\n",
      "\u001b[0;32m~/programfiles/anaconda3/lib/python3.9/site-packages/plotly/express/_core.py\u001b[0m in \u001b[0;36mmake_figure\u001b[0;34m(args, constructor, trace_patch, layout_patch)\u001b[0m\n\u001b[1;32m   1988\u001b[0m     \u001b[0mapply_default_cascade\u001b[0m\u001b[0;34m(\u001b[0m\u001b[0margs\u001b[0m\u001b[0;34m)\u001b[0m\u001b[0;34m\u001b[0m\u001b[0;34m\u001b[0m\u001b[0m\n\u001b[1;32m   1989\u001b[0m \u001b[0;34m\u001b[0m\u001b[0m\n\u001b[0;32m-> 1990\u001b[0;31m     \u001b[0margs\u001b[0m \u001b[0;34m=\u001b[0m \u001b[0mbuild_dataframe\u001b[0m\u001b[0;34m(\u001b[0m\u001b[0margs\u001b[0m\u001b[0;34m,\u001b[0m \u001b[0mconstructor\u001b[0m\u001b[0;34m)\u001b[0m\u001b[0;34m\u001b[0m\u001b[0;34m\u001b[0m\u001b[0m\n\u001b[0m\u001b[1;32m   1991\u001b[0m     \u001b[0;32mif\u001b[0m \u001b[0mconstructor\u001b[0m \u001b[0;32min\u001b[0m \u001b[0;34m[\u001b[0m\u001b[0mgo\u001b[0m\u001b[0;34m.\u001b[0m\u001b[0mTreemap\u001b[0m\u001b[0;34m,\u001b[0m \u001b[0mgo\u001b[0m\u001b[0;34m.\u001b[0m\u001b[0mSunburst\u001b[0m\u001b[0;34m,\u001b[0m \u001b[0mgo\u001b[0m\u001b[0;34m.\u001b[0m\u001b[0mIcicle\u001b[0m\u001b[0;34m]\u001b[0m \u001b[0;32mand\u001b[0m \u001b[0margs\u001b[0m\u001b[0;34m[\u001b[0m\u001b[0;34m\"path\"\u001b[0m\u001b[0;34m]\u001b[0m \u001b[0;32mis\u001b[0m \u001b[0;32mnot\u001b[0m \u001b[0;32mNone\u001b[0m\u001b[0;34m:\u001b[0m\u001b[0;34m\u001b[0m\u001b[0;34m\u001b[0m\u001b[0m\n\u001b[1;32m   1992\u001b[0m         \u001b[0margs\u001b[0m \u001b[0;34m=\u001b[0m \u001b[0mprocess_dataframe_hierarchy\u001b[0m\u001b[0;34m(\u001b[0m\u001b[0margs\u001b[0m\u001b[0;34m)\u001b[0m\u001b[0;34m\u001b[0m\u001b[0;34m\u001b[0m\u001b[0m\n",
      "\u001b[0;32m~/programfiles/anaconda3/lib/python3.9/site-packages/plotly/express/_core.py\u001b[0m in \u001b[0;36mbuild_dataframe\u001b[0;34m(args, constructor)\u001b[0m\n\u001b[1;32m   1403\u001b[0m     \u001b[0;31m# now that things have been prepped, we do the systematic rewriting of `args`\u001b[0m\u001b[0;34m\u001b[0m\u001b[0;34m\u001b[0m\u001b[0m\n\u001b[1;32m   1404\u001b[0m \u001b[0;34m\u001b[0m\u001b[0m\n\u001b[0;32m-> 1405\u001b[0;31m     df_output, wide_id_vars = process_args_into_dataframe(\n\u001b[0m\u001b[1;32m   1406\u001b[0m         \u001b[0margs\u001b[0m\u001b[0;34m,\u001b[0m \u001b[0mwide_mode\u001b[0m\u001b[0;34m,\u001b[0m \u001b[0mvar_name\u001b[0m\u001b[0;34m,\u001b[0m \u001b[0mvalue_name\u001b[0m\u001b[0;34m\u001b[0m\u001b[0;34m\u001b[0m\u001b[0m\n\u001b[1;32m   1407\u001b[0m     )\n",
      "\u001b[0;32m~/programfiles/anaconda3/lib/python3.9/site-packages/plotly/express/_core.py\u001b[0m in \u001b[0;36mprocess_args_into_dataframe\u001b[0;34m(args, wide_mode, var_name, value_name)\u001b[0m\n\u001b[1;32m   1205\u001b[0m                         \u001b[0;32mif\u001b[0m \u001b[0margument\u001b[0m \u001b[0;34m==\u001b[0m \u001b[0;34m\"index\"\u001b[0m\u001b[0;34m:\u001b[0m\u001b[0;34m\u001b[0m\u001b[0;34m\u001b[0m\u001b[0m\n\u001b[1;32m   1206\u001b[0m                             \u001b[0merr_msg\u001b[0m \u001b[0;34m+=\u001b[0m \u001b[0;34m\"\\n To use the index, pass it in directly as `df.index`.\"\u001b[0m\u001b[0;34m\u001b[0m\u001b[0;34m\u001b[0m\u001b[0m\n\u001b[0;32m-> 1207\u001b[0;31m                         \u001b[0;32mraise\u001b[0m \u001b[0mValueError\u001b[0m\u001b[0;34m(\u001b[0m\u001b[0merr_msg\u001b[0m\u001b[0;34m)\u001b[0m\u001b[0;34m\u001b[0m\u001b[0;34m\u001b[0m\u001b[0m\n\u001b[0m\u001b[1;32m   1208\u001b[0m                 \u001b[0;32melif\u001b[0m \u001b[0mlength\u001b[0m \u001b[0;32mand\u001b[0m \u001b[0mlen\u001b[0m\u001b[0;34m(\u001b[0m\u001b[0mdf_input\u001b[0m\u001b[0;34m[\u001b[0m\u001b[0margument\u001b[0m\u001b[0;34m]\u001b[0m\u001b[0;34m)\u001b[0m \u001b[0;34m!=\u001b[0m \u001b[0mlength\u001b[0m\u001b[0;34m:\u001b[0m\u001b[0;34m\u001b[0m\u001b[0;34m\u001b[0m\u001b[0m\n\u001b[1;32m   1209\u001b[0m                     raise ValueError(\n",
      "\u001b[0;31mValueError\u001b[0m: Value of 'hover_name' is not the name of a column in 'data_frame'. Expected one of ['STATNAME', 'DISTNAME', 'DISTRICTS', 'BLOCKS', 'VILLAGES', 'CLUSTERS', 'TOTPOPULAT', 'P_URB_POP', 'POPULATION_0_6', 'GROWTHRATE', 'SEXRATIO', 'P_SC_POP', 'P_ST_POP', 'OVERALL_LI', 'FEMALE_LIT', 'MALE_LIT', 'AREA_SQKM', 'TOT_6_10_15', 'TOT_11_13_15', 'SCH1', 'SCH2', 'SCH3', 'SCH4', 'SCH5', 'SCH6', 'SCH7', 'SCH9', 'SCHTOT', 'SCH1G', 'SCH2G', 'SCH3G', 'SCH4G', 'SCH5G', 'SCH6G', 'SCH7G', 'SCH9G', 'SCHTOTG', 'SCH1P', 'SCH2P', 'SCH3P', 'SCH4P', 'SCH5P', 'SCH6P', 'SCH7P', 'SCH9P', 'SCHTOTP', 'SCH1M', 'SCH2M', 'SCH3M', 'SCH4M', 'SCH5M', 'SCH6M', 'SCH7M', 'SCH9M', 'SCHTOTM', 'SCH1GR', 'SCH2GR', 'SCH3GR', 'SCH4GR', 'SCH5GR', 'SCH6GR', 'SCH7GR', 'SCH9GR', 'SCHTOTGR', 'SCH1GA', 'SCH2GA', 'SCH3GA', 'SCH4GA', 'SCH5GA', 'SCH6GA', 'SCH7GA', 'SCH9GA', 'SCHTOTGA', 'SCH1PR', 'SCH2PR', 'SCH3PR', 'SCH4PR', 'SCH5PR', 'SCH6PR', 'SCH7PR', 'SCH9PR', 'SCHTOTPR', 'SCHBOY1', 'SCHBOY2', 'SCHBOY3', 'SCHBOY4', 'SCHBOY5', 'SCHBOY6', 'SCHBOY7', 'SCHBOY9', 'SCHBOYTOT', 'SCHGIR1', 'SCHGIR2', 'SCHGIR3', 'SCHGIR4', 'SCHGIR5', 'SCHGIR6', 'SCHGIR7', 'SCHGIR9', 'SCHGIRTOT', 'ENR1', 'ENR2', 'ENR3', 'ENR4', 'ENR5', 'ENR6', 'ENR7', 'ENR9', 'ENRTOT', 'ENR1G', 'ENR2G', 'ENR3G', 'ENR4G', 'ENR5G', 'ENR6G', 'ENR7G', 'ENR9G', 'ENRTOTG', 'ENR1P', 'ENR2P', 'ENR3P', 'ENR4P', 'ENR5P', 'ENR6P', 'ENR7P', 'ENR9P', 'ENRTOTP', 'ENR1M', 'ENR2M', 'ENR3M', 'ENR4M', 'ENR5M', 'ENR6M', 'ENR7M', 'ENR9M', 'ENRTOTM', 'ENR1GR', 'ENR2GR', 'ENR3GR', 'ENR4GR', 'ENR5GR', 'ENR6GR', 'ENR7GR', 'ENR9GR', 'ENRTOTGR', 'ENR1PR', 'ENR2PR', 'ENR3PR', 'ENR4PR', 'ENR5PR', 'ENR6PR', 'ENR7PR', 'ENR9PR', 'ENRTOTPR', 'TCH1G', 'TCH2G', 'TCH3G', 'TCH4G', 'TCH5G', 'TCH6G', 'TCH7G', 'TCH9G', 'TCHTOTG', 'TCH1P', 'TCH2P', 'TCH3P', 'TCH4P', 'TCH5P', 'TCH6P', 'TCH7P', 'TCH9P', 'TCHTOTP', 'TCH1M', 'TCH2M', 'TCH3M', 'TCH4M', 'TCH5M', 'TCH6M', 'TCH7M', 'TCH9M', 'TCHTOTM', 'SCLS1', 'SCLS2', 'SCLS3', 'SCLS4', 'SCLS5', 'SCLS6', 'SCLS7', 'SCLSTOT', 'STCH1', 'STCH2', 'STCH3', 'STCH4', 'STCH5', 'STCH6', 'STCH7', 'STCHTOT', 'ROAD1', 'ROAD2', 'ROAD3', 'ROAD4', 'ROAD5', 'ROAD6', 'ROAD7', 'ROADTOT', 'SPLAY1', 'SPLAY2', 'SPLAY3', 'SPLAY4', 'SPLAY5', 'SPLAY6', 'SPLAY7', 'SPLAYTOT', 'SBNDR1', 'SBNDR2', 'SBNDR3', 'SBNDR4', 'SBNDR5', 'SBNDR6', 'SBNDR7', 'SBNDRTOT', 'SGTOIL1', 'SGTOIL2', 'SGTOIL3', 'SGTOIL4', 'SGTOIL5', 'SGTOIL6', 'SGTOIL7', 'SGTOILTOT', 'SBTOIL1', 'SBTOIL2', 'SBTOIL3', 'SBTOIL4', 'SBTOIL5', 'SBTOIL6', 'SBTOIL7', 'SBTOILTOT', 'SWAT1', 'SWAT2', 'SWAT3', 'SWAT4', 'SWAT5', 'SWAT6', 'SWAT7', 'SWATTOT', 'SELE1', 'SELE2', 'SELE3', 'SELE4', 'SELE5', 'SELE6', 'SELE7', 'SELETOT', 'SCOMP1', 'SCOMP2', 'SCOMP3', 'SCOMP4', 'SCOMP5', 'SCOMP6', 'SCOMP7', 'SCOMPTOT', 'SRAM1', 'SRAM2', 'SRAM3', 'SRAM4', 'SRAM5', 'SRAM6', 'SRAM7', 'SRAMTOT', 'SRAMN1', 'SRAMN2', 'SRAMN3', 'SRAMN4', 'SRAMN5', 'SRAMN6', 'SRAMN7', 'SRAMNTOT', 'ESTD1', 'ESTD2', 'ESTD3', 'ESTD4', 'ESTD5', 'ESTD6', 'ESTD7', 'ESTDTOT', 'MDM1', 'MDM2', 'MDM3', 'MDM4', 'MDM5', 'MDM6', 'MDM7', 'MDMTOT', 'KIT1', 'KIT2', 'KIT3', 'KIT4', 'KIT5', 'KIT6', 'KIT7', 'KITTOT', 'KITS1', 'KITS2', 'KITS3', 'KITS4', 'KITS5', 'KITS6', 'KITS7', 'KITSTOT', 'ENR501', 'ENR502', 'ENR503', 'ENR504', 'ENR505', 'ENR506', 'ENR507', 'ENR509', 'ENR50TOT', 'SMC1', 'SMC2', 'SMC3', 'SMC4', 'SMC5', 'SMC6', 'SMC7', 'SMCTOT', 'CLS1', 'CLS2', 'CLS3', 'CLS4', 'CLS5', 'CLS6', 'CLS7', 'CLSTOT', 'TCH1', 'TCH2', 'TCH3', 'TCH4', 'TCH5', 'TCH6', 'TCH7', 'TCHTOT', 'TCHF1', 'TCHF2', 'TCHF3', 'TCHF4', 'TCHF5', 'TCHF6', 'TCHF7', 'TCHFTOT', 'TCHM1', 'TCHM2', 'TCHM3', 'TCHM4', 'TCHM5', 'TCHM6', 'TCHM7', 'TCHM9', 'ENRG1', 'ENRG2', 'ENRG3', 'ENRG4', 'ENRG5', 'ENRG6', 'ENRG7', 'ENRGTOT', 'PREP', 'PRESTD', 'PPFTCH', 'PPMTCH', 'PMTCH', 'PFTCH', 'TCHSCM1', 'TCHSCM2', 'TCHSCM3', 'TCHSCM4', 'TCHSCM5', 'TCHSCM6', 'TCHSCM7', 'TCHSCF1', 'TCHSCF2', 'TCHSCF3', 'TCHSCF4', 'TCHSCF5', 'TCHSCF6', 'TCHSCF7', 'TCHSTM1', 'TCHSTM2', 'TCHSTM3', 'TCHSTM4', 'TCHSTM5', 'TCHSTM6', 'TCHSTM7', 'TCHSTF1', 'TCHSTF2', 'TCHSTF3', 'TCHSTF4', 'TCHSTF5', 'TCHSTF6', 'TCHSTF7', 'TCHOBCM1', 'TCHOBCM2', 'TCHOBCM3', 'TCHOBCM4', 'TCHOBCM5', 'TCHOBCM6', 'TCHOBCM7', 'TCHOBCF1', 'TCHOBCF2', 'TCHOBCF3', 'TCHOBCF4', 'TCHOBCF5', 'TCHOBCF6', 'TCHOBCF7', 'TCH_TRNRM1', 'TCH_TRNRM2', 'TCH_TRNRM3', 'TCH_TRNRM4', 'TCH_TRNRM5', 'TCH_TRNRM6', 'TCH_TRNRM7', 'TCH_TRNRF1', 'TCH_TRNRF2', 'TCH_TRNRF3', 'TCH_TRNRF4', 'TCH_TRNRF5', 'TCH_TRNRF6', 'TCH_TRNRF7', 'PGRMTCH', 'PGRFTCH', 'GRMTCH', 'GRFTCH', 'PGCMTCH', 'PGCFTCH', 'PCMTCH', 'PCFTCH', 'C1_B', 'C2_B', 'C3_B', 'C4_B', 'C5_B', 'C6_B', 'C7_B', 'C8_B', 'C9_B', 'C1_G', 'C2_G', 'C3_G', 'C4_G', 'C5_G', 'C6_G', 'C7_G', 'C8_G', 'C9_G', 'C15A', 'C68A', 'C1_BD', 'C2_BD', 'C3_BD', 'C4_BD', 'C5_BD', 'C6_BD', 'C7_BD', 'C8_BD', 'C1_GD', 'C2_GD', 'C3_GD', 'C4_GD', 'C5_GD', 'C6_GD', 'C7_GD', 'C8_GD', 'C1_BR', 'C2_BR', 'C3_BR', 'C4_BR', 'C5_BR', 'C6_BR', 'C7_BR', 'C8_BR', 'C9_BR', 'C1_GR', 'C2_GR', 'C3_GR', 'C4_GR', 'C5_GR', 'C6_GR', 'C7_GR', 'C8_GR', 'C9_GR', 'SCPTOT', 'SCPTOT_G', 'SCUTOT', 'SCUTOT_G', 'STPTOT', 'STPTOT_G', 'STUTOT', 'STUTOT_G', 'OBPTOT', 'OBUTOT', 'OBPTOT_G', 'OBUTOT_G', 'MUPTOT', 'MUUTOT', 'MUPTOT_G', 'MUUTOT_G', 'BLC1', 'LVC1', 'HEC1', 'SPC1', 'LOC1', 'MEC1', 'LEC1', 'CPC1', 'AUC1', 'MUC1', 'BLC2', 'LVC2', 'HEC2', 'SPC2', 'LOC2', 'MEC2', 'LEC2', 'CPC2', 'AUC2', 'MUC2', 'BLC3', 'LVC3', 'HEC3', 'SPC3', 'LOC3', 'MEC3', 'LEC3', 'CPC3', 'AUC3', 'MUC3', 'BLC4', 'LVC4', 'HEC4', 'SPC4', 'LOC4', 'MEC4', 'LEC4', 'CPC4', 'AUC4', 'MUC4', 'BLC5', 'LVC5', 'HEC5', 'SPC5', 'LOC5', 'MEC5', 'LEC5', 'CPC5', 'AUC5', 'MUC5', 'BLC6', 'LVC6', 'HEC6', 'SPC6', 'LOC6', 'MEC6', 'LEC6', 'CPC6', 'AUC6', 'MUC6', 'BLC7', 'LVC7', 'HEC7', 'SPC7', 'LOC7', 'MEC7', 'LEC7', 'CPC7', 'AUC7', 'MUC7', 'BLC8', 'LVC8', 'HEC8', 'SPC8', 'LOC8', 'MEC8', 'LEC8', 'CPC8', 'AUC8', 'MUC8', 'TOTCLGD1G', 'TOTCLGD2G', 'TOTCLGD3G', 'TOTCLGD4G', 'TOTCLGD5G', 'TOTCLGD6G', 'TOTCLGD7G', 'TOTCLMI1G', 'TOTCLMI2G', 'TOTCLMI3G', 'TOTCLMI4G', 'TOTCLMI5G', 'TOTCLMI6G', 'TOTCLMI7G', 'TOTCLMJ1G', 'TOTCLMJ2G', 'TOTCLMJ3G', 'TOTCLMJ4G', 'TOTCLMJ5G', 'TOTCLMJ6G', 'TOTCLMJ7G', 'TOTCLOT1G', 'TOTCLOT2G', 'TOTCLOT3G', 'TOTCLOT4G', 'TOTCLOT5G', 'TOTCLOT6G', 'TOTCLOT7G', 'TCHBS1', 'TCHBS2', 'TCHBS3', 'TCHBS4', 'TCHBS5', 'TCHBS6', 'TCHBS7', 'TCHSEC1', 'TCHSEC2', 'TCHSEC3', 'TCHSEC4', 'TCHSEC5', 'TCHSEC6', 'TCHSEC7', 'TCHHS1', 'TCHHS2', 'TCHHS3', 'TCHHS4', 'TCHHS5', 'TCHHS6', 'TCHHS7', 'TCHGD1', 'TCHGD2', 'TCHGD3', 'TCHGD4', 'TCHGD5', 'TCHGD6', 'TCHGD7', 'TCHPG1', 'TCHPG2', 'TCHPG3', 'TCHPG4', 'TCHPG5', 'TCHPG6', 'TCHPG7', 'TCHMD1', 'TCHMD2', 'TCHMD3', 'TCHMD4', 'TCHMD5', 'TCHMD6', 'TCHMD7', 'TCHPD1', 'TCHPD2', 'TCHPD3', 'TCHPD4', 'TCHPD5', 'TCHPD6', 'TCHPD7', 'TCHNR1', 'TCHNR2', 'TCHNR3', 'TCHNR4', 'TCHNR5', 'TCHNR6', 'TCHNR7', 'TCHCON1', 'TCHCON2', 'TCHCON3', 'TCHCON4', 'TCHCON5', 'TCHCON67', 'TCHCON8', 'TCHCON9', 'TCHRM1', 'TCHRM2', 'TCHRM3', 'TCHRM4', 'TCHRM5', 'TCHRM6', 'TCHRM7', 'TCHRF1', 'TCHRF2', 'TCHRF3', 'TCHRF4', 'TCHRF5', 'TCHRF6', 'TCHRF7', 'TCHRN1', 'TCHRN2', 'TCHRN3', 'TCHRN4', 'TCHRN5', 'TCHRN6', 'TCHRN7', 'TCHCM1', 'TCHCM2', 'TCHCM3', 'TCHCM4', 'TCHCM5', 'TCHCM6', 'TCHCM7', 'TCHCF1', 'TCHCF2', 'TCHCF3', 'TCHCF4', 'TCHCF5', 'TCHCF6', 'TCHCF7', 'TCHCN1', 'TCHCN2', 'TCHCN3', 'TCHCN4', 'TCHCN5', 'TCHCN6', 'TCHCN7', 'TLM_R1', 'TLM_R2', 'TLM_R3', 'TLM_R4', 'TLM_R5', 'TLM_R6', 'TLM_R7', 'TLME', 'TLMR', 'CONTIE', 'CONTIR', 'CONTI_R1', 'CONTI_R2', 'CONTI_R3', 'CONTI_R4', 'CONTI_R5', 'CONTI_R6', 'CONTI_R7', 'PIDAY30', 'PIDAYSCH', 'UIDAY35', 'UIDAYSCH', 'M1', 'M2', 'M3', 'M4', 'M5', 'ENRE11', 'ENRE12', 'ENRE13', 'ENRE14', 'ENRE15', 'ENRE16', 'ENRE17', 'ENRE21', 'ENRE22', 'ENRE23', 'ENRE24', 'ENRE25', 'ENRE26', 'ENRE27', 'ENRE31', 'ENRE32', 'ENRE33', 'ENRE34', 'ENRE35', 'ENRE36', 'ENRE37', 'ENRE41', 'ENRE42', 'ENRE43', 'ENRE44', 'ENRE45', 'ENRE46', 'ENRE47', 'ENRE51', 'ENRE52', 'ENRE53', 'ENRE54', 'ENRE55', 'ENRE56', 'ENRE57', 'TCH_5556M', 'TCH_5556F', 'TCH_5556T', 'TCH_5758M', 'TCH_5758F', 'TCH_5758T', 'TCH_5960M', 'TCH_5960F', 'TCH_5960T', 'PPTR30', 'UPTR35', 'PSCR30', 'USCR35', 'NOTCH_ASS', 'TCHINV', 'PTXT_ALL', 'PTXT_SC', 'PTXT_ST', 'PUNI_ALL', 'PUNI_SC', 'PUNI_ST', 'UTXT_ALL', 'UTXT_SC', 'UTXT_ST', 'UUNI_ALL', 'UUNI_SC', 'UUNI_ST', 'TOTCLS1G', 'TOTCLS2G', 'TOTCLS3G', 'TOTCLS4G', 'TOTCLS5G', 'TOTCLS6G', 'TOTCLS7G', 'geo_distname', 'literacy_rate_ratio'] but received: statname"
     ]
    }
   ],
   "source": [
    "x = lit_fig_callback(\"Bihar\",\"BLOCKS\",\"VILLAGES\",\"CLUSTERS\",\"TOTPOPULAT\")\n",
    "x.show()"
   ]
  },
  {
   "cell_type": "code",
   "execution_count": 12,
   "metadata": {},
   "outputs": [],
   "source": [
    "new_fields = pd.read_csv(\"data2/field_names.csv\")\n",
    "orig_data = pd.read_csv(\"data/2015_16_Districtwise.csv\")"
   ]
  },
  {
   "cell_type": "code",
   "execution_count": 20,
   "metadata": {},
   "outputs": [],
   "source": [
    "orig_fields = orig_data.columns.to_list()"
   ]
  },
  {
   "cell_type": "code",
   "execution_count": 17,
   "metadata": {},
   "outputs": [
    {
     "data": {
      "text/plain": [
       "False"
      ]
     },
     "execution_count": 17,
     "metadata": {},
     "output_type": "execute_result"
    }
   ],
   "source": [
    "'STATNAME' in orig_fields"
   ]
  },
  {
   "cell_type": "code",
   "execution_count": 21,
   "metadata": {},
   "outputs": [
    {
     "data": {
      "text/plain": [
       "['*TCHMTOT',\n",
       " '*PPFTCH',\n",
       " '*PPMTCH',\n",
       " '*TCSTSCOBCFTOT',\n",
       " '*TCSTSCOBCMTOT',\n",
       " '*TCH_TRNRMTOT',\n",
       " '*TCH_TRNRFTOT',\n",
       " '*PGRMTCH',\n",
       " '*PGRFTCH']"
      ]
     },
     "execution_count": 21,
     "metadata": {},
     "output_type": "execute_result"
    }
   ],
   "source": [
    "fields_to_create = [f for f in new_fields['Field Name'].to_list() if f not in orig_fields]\n",
    "fields_to_create"
   ]
  },
  {
   "cell_type": "code",
   "execution_count": null,
   "metadata": {},
   "outputs": [],
   "source": []
  }
 ],
 "metadata": {
  "kernelspec": {
   "display_name": "Python 3.9.7 ('base')",
   "language": "python",
   "name": "python3"
  },
  "language_info": {
   "codemirror_mode": {
    "name": "ipython",
    "version": 3
   },
   "file_extension": ".py",
   "mimetype": "text/x-python",
   "name": "python",
   "nbconvert_exporter": "python",
   "pygments_lexer": "ipython3",
   "version": "3.9.7"
  },
  "orig_nbformat": 4,
  "vscode": {
   "interpreter": {
    "hash": "2da85442f610eb6be705ea2fcde90113d2979f686409d64cfea701da7585f7ac"
   }
  }
 },
 "nbformat": 4,
 "nbformat_minor": 2
}
